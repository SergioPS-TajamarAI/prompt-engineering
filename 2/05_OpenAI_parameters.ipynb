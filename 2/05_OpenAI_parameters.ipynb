{
 "cells": [
  {
   "cell_type": "markdown",
   "metadata": {},
   "source": [
    "# OpenAI Parameters"
   ]
  },
  {
   "cell_type": "markdown",
   "metadata": {},
   "source": [
    "# Overview\n",
    "When making requests to OpenAI models, several parameters can be used to control the behavior and output of the model. \\\n",
    "Understanding these parameters helps in fine-tuning the responses to meet specific requirements, whether for generating text, answering questions, or any other use case.\n",
    "\n",
    "For more detailed examples, refer to the official documentation [Azure OpenAI Service](https://learn.microsoft.com/en-us/azure/ai-services/openai/reference)\n"
   ]
  },
  {
   "cell_type": "code",
   "execution_count": 3,
   "metadata": {},
   "outputs": [],
   "source": [
    "import re\n",
    "import requests\n",
    "import sys\n",
    "import os\n",
    "from openai import AzureOpenAI\n",
    "import tiktoken\n",
    "from dotenv import load_dotenv\n",
    "load_dotenv(override=True)\n",
    "\n",
    "client = AzureOpenAI(\n",
    "  azure_endpoint = os.getenv(\"AZURE_OPENAI_ENDPOINT\"), \n",
    "  api_key=os.getenv(\"AZURE_OPENAI_API_KEY\"),  \n",
    "  api_version=\"2024-02-15-preview\"\n",
    ")\n",
    "\n",
    "CHAT_COMPLETIONS_MODEL = \"gpt-4o-mini\"\n",
    "SEED = 123"
   ]
  },
  {
   "cell_type": "markdown",
   "metadata": {},
   "source": [
    "# Parameter: max_tokens\n",
    "**Description**: The maximum number of tokens to generate in the completion. \\\n",
    "**Default**: 16 \\\n",
    "**Example**: max_tokens=50\n",
    "\n",
    "The token count of your prompt plus max_tokens can't exceed the model's context length. \\\n",
    "Most models have a context length of 2048 tokens (except for the newest models, which support 4096). Please refer to documentation."
   ]
  },
  {
   "cell_type": "code",
   "execution_count": 4,
   "metadata": {},
   "outputs": [
    {
     "name": "stdout",
     "output_type": "stream",
     "text": [
      "Max Tokens: 16\n",
      "\n",
      "The best pet often depends on an individual's preferences, lifestyle, and living situation.\n",
      "\n",
      "--------------------------------------------------------------------------------\n",
      "\n",
      "Max Tokens: 32\n",
      "\n",
      "The best pet can vary greatly depending on individual preferences, lifestyles, and living situations. Some people might consider dogs the best pets due to their loyalty and companionship,\n",
      "\n",
      "--------------------------------------------------------------------------------\n",
      "\n",
      "Max Tokens: 60\n",
      "\n",
      "The best pet can vary greatly depending on individual preferences and lifestyles! Here are a few popular options:\n",
      "\n",
      "1. **Dogs**: Known for their loyalty and companionship, dogs are often called \"man's best friend.\" They require regular exercise and social interaction.\n",
      "\n",
      "2. **Cats**: Independent but affectionate,\n",
      "\n",
      "--------------------------------------------------------------------------------\n",
      "\n",
      "Max Tokens: 100\n",
      "\n",
      "The best pet depends on individual preferences, lifestyles, and living situations. Here are a few options:\n",
      "\n",
      "1. **Dogs**: Known for their loyalty and companionship, dogs are great for active individuals and families. They require regular exercise and training.\n",
      "\n",
      "2. **Cats**: Cats are generally more independent than dogs, making them ideal for people with busy schedules. They provide companionship and can be quite affectionate.\n",
      "\n",
      "3. **Fish**: For those who prefer low-maintenance pets, fish can be a\n",
      "\n",
      "--------------------------------------------------------------------------------\n",
      "\n"
     ]
    }
   ],
   "source": [
    "def call_openai_with_max_tokens(max_tokens):\n",
    "    response = client.chat.completions.create(\n",
    "          model=\"gpt-4o-mini\",\n",
    "          messages = [{\"role\":\"system\", \"content\":\"You are a helpful assistant.\"},\n",
    "                    {\"role\":\"user\",\"content\": \"The best pet is a\"}],\n",
    "                    max_tokens=max_tokens\n",
    "    )\n",
    "    return response.choices[0].message.content\n",
    "\n",
    "# Generate with different presence_penalty values\n",
    "penalties = [16, 32, 60, 100]\n",
    "for penalty in penalties:\n",
    "    print(f\"Max Tokens: {penalty}\\n\")\n",
    "    print(call_openai_with_max_tokens(penalty))\n",
    "    print(\"\\n\" + \"-\"*80 + \"\\n\")"
   ]
  },
  {
   "attachments": {},
   "cell_type": "markdown",
   "metadata": {},
   "source": [
    "# Parameter: temperature\n",
    "\n",
    "**Description**: Controls the randomness of the output. Lower values make the output more deterministic, while higher values increase randomness. \\\n",
    "**Value Range**: 0 to 1 \\\n",
    "**Default Value**: 1 \\\n",
    "**Example**: temperature=0.7\n",
    "\n",
    "Higher values means the model will take more risks. \\\n",
    "Try 0.9 for more creative applications, and 0 (argmax sampling) for ones with a well-defined answer.\n",
    "\n",
    "---\n",
    "**NOTE**: We generally recommend altering this or top_p but not both.\n"
   ]
  },
  {
   "cell_type": "code",
   "execution_count": 13,
   "metadata": {},
   "outputs": [],
   "source": [
    "def call_openai(num_times, prompt, temperature=0.75, use_seed=False):\n",
    "    for i in range(num_times):\n",
    "        if use_seed:\n",
    "            response = client.chat.completions.create(\n",
    "                model= CHAT_COMPLETIONS_MODEL,\n",
    "                messages = [\n",
    "                    {\"role\": \"system\", \"content\": \"You're a helpful assistant that don't uses lists to response\"},\n",
    "                    {\"role\": \"user\", \"content\": prompt},\n",
    "                ],\n",
    "                max_tokens=60,\n",
    "                seed=SEED,\n",
    "                temperature = temperature\n",
    "            )\n",
    "        else:\n",
    "            response = client.chat.completions.create(\n",
    "                model= CHAT_COMPLETIONS_MODEL,\n",
    "                messages = [\n",
    "                    {\"role\": \"system\", \"content\": \"You're a helpful assistant that don't uses lists to response\"},\n",
    "                    {\"role\": \"user\", \"content\": prompt},\n",
    "                ],\n",
    "                max_tokens=60,\n",
    "                temperature = temperature\n",
    "            )\n",
    "        print(response.choices[0].message.content)"
   ]
  },
  {
   "cell_type": "code",
   "execution_count": 14,
   "metadata": {},
   "outputs": [
    {
     "name": "stdout",
     "output_type": "stream",
     "text": [
      "The best pet often depends on personal preferences and lifestyle. Some people may find dogs to be the best due to their loyalty and companionship, while others might prefer cats for their independence and low maintenance. Other pets, like birds, rabbits, or fish, can also be wonderful companions, each bringing their unique\n",
      "The best pet can vary greatly depending on individual preferences and lifestyles. Some people might find that dogs are the best due to their loyalty and companionship, while others may prefer cats for their independence and affection. Small pets like hamsters or guinea pigs can be great for those with limited space, while fish can\n",
      "The best pet often depends on individual preferences and lifestyles. Some people may find that dogs are the best companions due to their loyalty and energy, while others might prefer cats for their independence and low maintenance. Some enjoy the company of smaller pets like rabbits or hamsters, which can be great for those with\n",
      "The best pet often depends on individual preferences and lifestyles. Some people may find that dogs offer companionship and loyalty, while others might prefer the independence and low-maintenance nature of cats. Small pets like hamsters or rabbits can be great for those with limited space, while fish can provide a calming presence.\n",
      "The best pet really depends on individual preferences and lifestyles. Some people find joy in the companionship of dogs, appreciating their loyalty and energy. Others may prefer the independence of cats, who can be more low-maintenance. For those with limited space or allergies, smaller pets like hamsters or fish might be\n",
      "The best pet often depends on an individual's lifestyle, preferences, and living situation. Some people find that dogs are the best companions due to their loyalty and affection, while others may prefer cats for their independence and low maintenance. Small animals like hamsters or guinea pigs can be delightful for those with limited space\n",
      "The best pet is often considered to be one that matches an individual's lifestyle, preferences, and needs. Some people find companionship in dogs for their loyalty and energy, while others appreciate the independence of cats. Small pets like hamsters or guinea pigs can be great for those with limited space, and fish provide\n",
      "The best pet varies for each person, depending on their lifestyle, preferences, and living situation. Some people might find dogs to be the best companions due to their loyalty and energy, while others might prefer cats for their independence and low maintenance. Small pets like hamsters or rabbits can be great for those\n",
      "The best pet often depends on an individual's lifestyle, preferences, and living situation. Some people may find that dogs provide companionship and loyalty, while others might prefer the independence and lower maintenance of cats. Small animals like hamsters or rabbits can be great for those with limited space, while fish can be calming\n",
      "The best pet often depends on individual preferences and lifestyles. Some people love the companionship of dogs, known for their loyalty and playful nature. Others may prefer the independence of cats, which can be affectionate yet require less attention. Small animals like rabbits, hamsters, or guinea pigs can be great for those\n"
     ]
    }
   ],
   "source": [
    "# Without seed and temperature, the response is different each time\n",
    "call_openai(10, 'The best pet is a ')"
   ]
  },
  {
   "cell_type": "code",
   "execution_count": 15,
   "metadata": {},
   "outputs": [
    {
     "name": "stdout",
     "output_type": "stream",
     "text": [
      "The best pet often depends on individual preferences and lifestyles. Some people might find that dogs are the best due to their loyalty and companionship, while others may prefer cats for their independence and low maintenance. Small animals like hamsters or rabbits can be great for those with limited space, and fish can provide a\n",
      "The best pet often depends on individual preferences and lifestyles. Some people might find that dogs are the best due to their loyalty and companionship, while others may prefer cats for their independence and low maintenance. Small animals like hamsters or rabbits can be great for those with limited space, while fish can provide a\n",
      "The best pet often depends on individual preferences and lifestyles. Some people might find that dogs are the best due to their loyalty and companionship, while others may prefer cats for their independence and low maintenance. Small animals like hamsters or rabbits can be great for those with limited space, while fish can provide a\n",
      "The best pet often depends on individual preferences and lifestyles. Some people might find that dogs are the best companions due to their loyalty and ability to bond with humans. Others may prefer cats for their independence and low-maintenance nature. Small animals like hamsters or guinea pigs can be great for those with limited\n",
      "The best pet often depends on individual preferences and lifestyles. Some people might find that dogs are the best due to their loyalty and companionship, while others may prefer cats for their independence and low maintenance. Small animals like hamsters or rabbits can be great for those with limited space, while fish can provide a\n",
      "The best pet often depends on individual preferences and lifestyles. Some people might find that dogs are the best due to their loyalty and companionship, while others may prefer cats for their independence and low maintenance. Small animals like hamsters or rabbits can be great for those with limited space, and fish can provide a\n",
      "The best pet often depends on individual preferences and lifestyles. Some people might find that dogs are the best due to their loyalty and companionship, while others may prefer cats for their independence and low maintenance. Small animals like hamsters or rabbits can be great for those with limited space, while fish can provide a\n",
      "The best pet often depends on individual preferences and lifestyles. Some people might find that dogs are the best due to their loyalty and companionship, while others may prefer cats for their independence and low maintenance. Small animals like hamsters or rabbits can be great for those with limited space, while fish can provide a\n",
      "The best pet often depends on individual preferences and lifestyles. Some people might find that dogs are the best due to their loyalty and companionship, while others may prefer cats for their independence and low maintenance. Small animals like hamsters or rabbits can be great for those with limited space, and fish can provide a\n",
      "The best pet often depends on individual preferences and lifestyles. Some people might find that dogs are the best due to their loyalty and companionship, while others may prefer cats for their independence and low maintenance. Small animals like hamsters or rabbits can be great for those with limited space, while fish can provide a\n"
     ]
    }
   ],
   "source": [
    "# Now using a seed and 0 temperature, the response is the much more consisitent\n",
    "call_openai(10, 'The best pet is a ', temperature = 0, use_seed=True)"
   ]
  },
  {
   "attachments": {},
   "cell_type": "markdown",
   "metadata": {},
   "source": [
    "# Parameter: n\n",
    "**Description**: Specifies the number of completions to generate for each prompt. \\\n",
    "**Default Value**: 1 \\\n",
    "**Example**: n = 3 \n",
    "\n",
    "---\n",
    "**Note**: Because this parameter generates many completions, it can quickly consume your token quota. Use carefully and ensure that you have reasonable settings for max_tokens and stop."
   ]
  },
  {
   "cell_type": "code",
   "execution_count": 19,
   "metadata": {},
   "outputs": [
    {
     "name": "stdout",
     "output_type": "stream",
     "text": [
      "1 The best pet is often considered to be one that suits your lifestyle, preferences, and living situation. For some, a dog offers companionship and loyalty, while for others, a cat provides a more independent yet affectionate presence. Small pets like hamsters or rabbits can be delightful for those with limited space.\n",
      "2 The best pet often depends on individual preferences and lifestyles. Some people might find that dogs, with their loyalty and companionship, make the best pets for their active and social nature. Others may prefer cats, which can offer a sense of independence and are typically lower maintenance. There are also those who enjoy the\n",
      "3 The best pet can vary greatly depending on individual preferences, lifestyles, and living situations. Some people find dogs to be the best companions due to their loyalty and ability to bond with humans. Others might prefer cats for their independence and low-maintenance nature. Exotic pets, such as reptiles or birds, can\n"
     ]
    }
   ],
   "source": [
    "response = client.chat.completions.create(\n",
    "    model= CHAT_COMPLETIONS_MODEL,\n",
    "    messages = [\n",
    "        {\"role\": \"system\", \"content\": \"You're a helpful assistant that don't uses lists to response\"},\n",
    "        {\"role\": \"user\", \"content\": \"The best pet is a \"},\n",
    "    ],\n",
    "    max_tokens=60,\n",
    "    seed=SEED,\n",
    "    temperature = 0.9,\n",
    "    n = 3\n",
    ")\n",
    "\n",
    "for index, c in enumerate(response.choices):\n",
    "    print(index + 1, c.message.content)"
   ]
  },
  {
   "attachments": {},
   "cell_type": "markdown",
   "metadata": {},
   "source": [
    "# Parameter: presence_penalty\n",
    "**Description**: Penalizes new tokens based on whether they appear in the text so far, encouraging the model to use new tokens. \\\n",
    "**Value Range**: -2.0 to 2.0 \\\n",
    "**Default Value**: 0 \\\n",
    "**Example**: presence_penalty=0.5"
   ]
  },
  {
   "cell_type": "code",
   "execution_count": 21,
   "metadata": {},
   "outputs": [
    {
     "name": "stdout",
     "output_type": "stream",
     "text": [
      "Presence Penalty: 0\n",
      "\n",
      "The best pet often depends on individual preferences and lifestyle. Some people might favor dogs for their loyalty and companionship, while others might prefer cats for their independence and lower maintenance needs. Additionally, small animals like hamsters or rabbits might appeal to those looking for a pet that requires less space. Ultimately, the\n",
      "\n",
      "--------------------------------------------------------------------------------\n",
      "\n",
      "Presence Penalty: 0.5\n",
      "\n",
      "The best pet often depends on an individual's lifestyle, preferences, and living situation. Some people may find dogs to be the best companions due to their loyalty and ability to bond closely with humans. Others might prefer cats for their independence and low-maintenance care. Some individuals enjoy the uniqueness of exotic pets such\n",
      "\n",
      "--------------------------------------------------------------------------------\n",
      "\n",
      "Presence Penalty: 1.0\n",
      "\n",
      "The best pet really depends on an individual's lifestyle, preferences, and living situation. Some people might find that dogs are the best because of their loyalty, companionship, and ability to bring joy and activity into daily life. Others might prefer cats for their independence and lower maintenance needs. There are also smaller pets\n",
      "\n",
      "--------------------------------------------------------------------------------\n",
      "\n",
      "Presence Penalty: 1.5\n",
      "\n",
      "The best pet often depends on individual preferences, lifestyle, and living situation. Some people might find that dogs are the best companions due to their loyalty and playfulness, while others may prefer cats for their independence and low-maintenance nature. Exotic pets like birds, reptiles, or small mammals can also be\n",
      "\n",
      "--------------------------------------------------------------------------------\n",
      "\n",
      "Presence Penalty: 2.0\n",
      "\n",
      "The best pet often depends on individual preferences and lifestyle. Some people find great companionship in dogs, known for their loyalty and affection, while others might prefer the independence of cats. Small animals like hamsters or rabbits can be wonderful too, as they require less space and can still provide joy and interaction.\n",
      "\n",
      "--------------------------------------------------------------------------------\n",
      "\n"
     ]
    }
   ],
   "source": [
    "def call_openai_with_presence_penalty(presence_penalty):\n",
    "    response = client.chat.completions.create(\n",
    "          model=CHAT_COMPLETIONS_MODEL,\n",
    "          messages = [{\"role\":\"system\", \"content\":\"You are a helpful assistant that dont uses lists to response.\"},\n",
    "                    {\"role\":\"user\",\"content\": \"The best pet is a\"}],\n",
    "                    max_tokens=60,\n",
    "                    presence_penalty= presence_penalty\n",
    "    )\n",
    "    return response.choices[0].message.content\n",
    "\n",
    "# Generate with different presence_penalty values\n",
    "penalties = [0, 0.5, 1.0, 1.5, 2.0]\n",
    "for penalty in penalties:\n",
    "    print(f\"Presence Penalty: {penalty}\\n\")\n",
    "    print(call_openai_with_presence_penalty(penalty))\n",
    "    print(\"\\n\" + \"-\"*80 + \"\\n\")"
   ]
  },
  {
   "cell_type": "markdown",
   "metadata": {},
   "source": [
    "# Parameter: frequency_penalty\n",
    "**Description**: Penalizes new tokens based on their existing frequency in the text so far, reducing the likelihood of repeating the same line verbatim. \\\n",
    "**Value Range**: -2.0 to 2.0 \\\n",
    "**Default Value**: 0 \\\n",
    "**Example**: frequency_penalty=0.5"
   ]
  },
  {
   "cell_type": "markdown",
   "metadata": {},
   "source": [
    "#### Use cases to explore\n",
    "1. **Compare Responses** \\\n",
    "Generate multiple completions to compare and choose the best response for your use case.\n",
    "\n",
    "2. **Increase Diversity** \\\n",
    "Use multiple completions to get a variety of responses, which is useful in creative applications.\n",
    "\n",
    "3. **Enhance Robustness** \\\n",
    "Generate multiple responses to ensure consistency and accuracy across different completions.\n",
    "\n",
    "#### Best Practices\n",
    "1. **Optimize Prompt Length** \\\n",
    "Keep your prompts concise but informative to ensure the model has enough context.\n",
    "\n",
    "2. **Adjust Temperature and Top_p** \\\n",
    "Use these parameters to balance between deterministic and creative responses.\n",
    "\n",
    "3. **Monitor Token Usage** \\\n",
    "Be mindful of the max_tokens parameter to manage costs and response length.\n",
    "\n",
    "4. **Use Stopping Sequences** \\\n",
    "Define stopping sequences to control where the model should stop generating text, ensuring the output is within the desired context.\n",
    "\n",
    "5. **Generate Multiple Completions** \\\n",
    "Use the n parameter to generate multiple completions and select the best one for your needs."
   ]
  },
  {
   "cell_type": "markdown",
   "metadata": {},
   "source": [
    "## Exercise 1: Exploring 'top_p' Parameter\n",
    "### Description:\n",
    "- The 'top_p' parameter controls nucleus sampling. Lower values make the output more focused by limiting the pool of tokens.\n",
    "\n",
    "### Task:\n",
    "- Write a function that calls the model with different 'top_p' values and observe how the output changes.\n"
   ]
  },
  {
   "cell_type": "code",
   "execution_count": 23,
   "metadata": {},
   "outputs": [
    {
     "name": "stdout",
     "output_type": "stream",
     "text": [
      "Top P: 0.1\n",
      "\n",
      "Exercise offers a wide range of benefits for both physical and mental health. Here are some of the key advantages:\n",
      "\n",
      "### Physical Health Benefits:\n",
      "1. **Improved Cardiovascular Health**: Regular exercise strengthens the heart, improves circulation, and can lower blood pressure and cholesterol levels, reducing the risk of heart\n",
      "\n",
      "--------------------------------------------------------------------------------\n",
      "\n",
      "Top P: 0.3\n",
      "\n",
      "Exercise offers a wide range of benefits for both physical and mental health. Here are some of the key advantages:\n",
      "\n",
      "### Physical Health Benefits:\n",
      "1. **Improved Cardiovascular Health**: Regular exercise strengthens the heart, improves circulation, and helps lower blood pressure and cholesterol levels.\n",
      "2. **Weight Management\n",
      "\n",
      "--------------------------------------------------------------------------------\n",
      "\n",
      "Top P: 0.7\n",
      "\n",
      "Exercise offers a wide range of benefits for both physical and mental health. Here are some of the key advantages:\n",
      "\n",
      "### Physical Health Benefits\n",
      "1. **Improved Cardiovascular Health**: Regular exercise strengthens the heart, improves circulation, and can lower blood pressure, reducing the risk of heart disease and stroke\n",
      "\n",
      "--------------------------------------------------------------------------------\n",
      "\n",
      "Top P: 1.0\n",
      "\n",
      "Exercise offers a wide array of benefits for both physical and mental health. Here are some key benefits:\n",
      "\n",
      "### Physical Benefits:\n",
      "1. **Improves Cardiovascular Health**: Regular exercise strengthens the heart, improves circulation, and enhances overall heart health, reducing the risk of heart disease.\n",
      "2. **Weight\n",
      "\n",
      "--------------------------------------------------------------------------------\n",
      "\n"
     ]
    }
   ],
   "source": [
    "def call_openai_with_top_p(top_p):\n",
    "    response = client.chat.completions.create(\n",
    "        model= CHAT_COMPLETIONS_MODEL,\n",
    "        messages = [{\"role\":\"system\", \"content\":\"You are a helpful assistant.\"},\n",
    "                {\"role\":\"user\",\"content\": \"Describe the benefits of exercise.\"}\n",
    "        ],\n",
    "        max_tokens=60,\n",
    "        top_p= top_p      \n",
    "    )\n",
    "    return response.choices[0].message.content\n",
    "\n",
    "# Try with different values of top_p\n",
    "top_p_values = [0.1, 0.3, 0.7, 1.0]\n",
    "for value in top_p_values:\n",
    "    print(f\"Top P: {value}\\n\")\n",
    "    print(call_openai_with_top_p(value))\n",
    "    print(\"\\n\" + \"-\"*80 + \"\\n\")\n"
   ]
  },
  {
   "cell_type": "markdown",
   "metadata": {},
   "source": [
    "## Exercise 2: Frequency Penalty Exploration\n",
    "### Description:\n",
    "- This exercise will explore how the 'frequency_penalty' parameter affects the model's tendency to repeat itself.\n",
    "\n",
    "### Task:\n",
    "- Generate completions using different frequency_penalty values and note the diversity in responses.\n",
    "\n"
   ]
  },
  {
   "cell_type": "code",
   "execution_count": 25,
   "metadata": {},
   "outputs": [
    {
     "name": "stdout",
     "output_type": "stream",
     "text": [
      "Frequency Penalty: -1.0\n",
      "\n",
      "Sure! One fun fact about space is that it is completely silent. Unlike on Earth, where sound travels through air, space is a near-perfect vacuum, which means there are very few molecules to carry sound waves. As a result, if you were to be in space, you wouldn't hear anything,\n",
      "\n",
      "--------------------------------------------------------------------------------\n",
      "\n",
      "Frequency Penalty: 0.0\n",
      "\n",
      "A fun fact about space is that it is completely silent! Unlike on Earth, where sound travels through air, space is a vacuum, meaning there are no molecules to carry sound waves. As a result, if you were in space and someone shouted, you wouldn’t be able to hear them at all\n",
      "\n",
      "--------------------------------------------------------------------------------\n",
      "\n",
      "Frequency Penalty: 1.0\n",
      "\n",
      "A fun fact about space is that it has a distinct smell! Astronauts who have returned from spacewalks have reported that their suits carry a peculiar odor, often described as a mix of hot metal, seared steak, and welding fumes. This unique scent is thought to be caused by the\n",
      "\n",
      "--------------------------------------------------------------------------------\n",
      "\n",
      "Frequency Penalty: 2.0\n",
      "\n",
      "One fun fact about space is that astronauts can grow taller while in space! Without the force of Earth's gravity compressing their spine, astronauts may experience a lengthening of up to 2 inches (about 5 centimeters) over extended periods in microgravity. However, this effect is temporary; once they\n",
      "\n",
      "--------------------------------------------------------------------------------\n",
      "\n"
     ]
    }
   ],
   "source": [
    "def call_openai_with_frequency_penalty(frequency_penalty):\n",
    "    response = client.chat.completions.create(\n",
    "          model=CHAT_COMPLETIONS_MODEL,\n",
    "          messages = [{\"role\":\"system\", \"content\":\"You are a helpful assistant.\"},\n",
    "                    {\"role\":\"user\",\"content\": \"Tell me a fun fact about space.\"}],\n",
    "                    max_tokens=60,\n",
    "                    frequency_penalty= frequency_penalty\n",
    "    )\n",
    "    return response.choices[0].message.content \n",
    "\n",
    "penalties = [-1.0, 0.0, 1.0, 2.0]\n",
    "for penalty in penalties:\n",
    "    print(f\"Frequency Penalty: {penalty}\\n\")\n",
    "    print(call_openai_with_frequency_penalty(penalty))\n",
    "    print(\"\\n\" + \"-\"*80 + \"\\n\")\n"
   ]
  },
  {
   "cell_type": "markdown",
   "metadata": {},
   "source": [
    "## Exercise 3: Multi-Completion with 'n' Parameter\n",
    "### Description:\n",
    "- This exercise will help students generate multiple completions for the same prompt and compare the results.\n",
    "\n",
    "### Task:\n",
    "- Generate 3 completions for the same prompt by adjusting the 'n' parameter.\n"
   ]
  },
  {
   "cell_type": "code",
   "execution_count": 27,
   "metadata": {},
   "outputs": [
    {
     "name": "stdout",
     "output_type": "stream",
     "text": [
      "0 A fun fact about cheese is that there are over 1,800 different types of cheese produced around the world! Each variety has its own unique flavor, texture, and aroma, influenced by factors such as the type of milk used (cow, goat, sheep), the region where it's made, and the production methods. For example, Italy is famous for its Parmigiano-Reggiano, while France is known for its Brie and Roquefort. This diversity makes cheese a fascinating subject for\n",
      "1 Did you know that cheese is one of the oldest man-made foods? Archaeological evidence suggests that cheese-making dates back over 7,200 years to around 5500 BC! The earliest evidence of cheese was found in ancient pottery in Poland, indicating that our ancestors were already enjoying this delicious dairy product thousands of years ago. Plus, there are over 1,800 different types of cheese produced worldwide, each with its own unique flavor and texture!\n",
      "2 A fun fact about cheese is that there are over 2,000 different types of cheese produced around the world! Each type varies in flavor, texture, and appearance, influenced by factors such as the type of milk used (cow, goat, sheep), the region it's made in, and the production methods. For example, cheese can be soft, hard, blue-veined, or even spreadable, showcasing the incredible diversity of this beloved dairy product!\n"
     ]
    }
   ],
   "source": [
    "response = client.chat.completions.create(\n",
    "    model= CHAT_COMPLETIONS_MODEL,\n",
    "    messages=[\n",
    "        {\"role\":\"system\", \"content\":\"You are a helpful assistant.\"},\n",
    "        {\"role\":\"user\",\"content\": \"Tell me a fun fact about cheese\"}\n",
    "        ],\n",
    "        n=3,\n",
    "        temperature=0.5,\n",
    "        max_tokens=100,\n",
    ")\n",
    "\n",
    "for index, c in enumerate(response.choices):\n",
    "    print(index, c.message.content)"
   ]
  },
  {
   "cell_type": "markdown",
   "metadata": {},
   "source": [
    "## Exercise 4: Temperature vs. Deterministic Output\n",
    "### Description:\n",
    "- Adjust the 'temperature' parameter to explore the balance between creative and deterministic responses.\n",
    "\n",
    "### Task:\n",
    "- Generate completions with different temperature values and analyze the variance in output.\n"
   ]
  },
  {
   "cell_type": "code",
   "execution_count": 30,
   "metadata": {},
   "outputs": [
    {
     "name": "stdout",
     "output_type": "stream",
     "text": [
      "Temperature: 0.0\n",
      "\n",
      "Sure! Here are three name suggestions for your new tech startup:\n",
      "\n",
      "1. **Innovatech Solutions**\n",
      "2. **NexGen Dynamics**\n",
      "3. **Quantum Leap Technologies**\n",
      "\n",
      "Feel free to mix and match or modify these names to better fit your vision!\n",
      "\n",
      "--------------------------------------------------------------------------------\n",
      "\n",
      "Temperature: 0.3\n",
      "\n",
      "Sure! Here are three name suggestions for your tech startup:\n",
      "\n",
      "1. **Innovatech Solutions**\n",
      "2. **NexGen Dynamics**\n",
      "3. **Quantum Leap Technologies**\n",
      "\n",
      "Feel free to mix and match or modify these names to better fit your vision!\n",
      "\n",
      "--------------------------------------------------------------------------------\n",
      "\n",
      "Temperature: 0.7\n",
      "\n",
      "Sure! Here are three suggestions for a tech startup name:\n",
      "\n",
      "1. **Innovatech Solutions**\n",
      "2. **NexSphere Technologies**\n",
      "3. **QuantumLeap Innovations**\n",
      "\n",
      "Feel free to modify these or ask for more options!\n",
      "\n",
      "--------------------------------------------------------------------------------\n",
      "\n",
      "Temperature: 1.0\n",
      "\n",
      "Sure! Here are three suggestions for your new tech startup:\n",
      "\n",
      "1. **NexGen Innovations**\n",
      "2. **Quantum Leap Technologies**\n",
      "3. **CircuitHive Solutions**\n",
      "\n",
      "Feel free to mix and match or let me know if you have a specific theme or focus in mind!\n",
      "\n",
      "--------------------------------------------------------------------------------\n",
      "\n"
     ]
    }
   ],
   "source": [
    "def call_openai_with_temperature(temperature):\n",
    "    response = client.chat.completions.create(\n",
    "          model=CHAT_COMPLETIONS_MODEL,\n",
    "          messages = [{\"role\":\"system\", \"content\":\"You are a helpful assistant.\"},\n",
    "                    {\"role\":\"user\",\"content\": \"Suggest 3 names for a new tech startup.\"}],\n",
    "                    max_tokens=100,\n",
    "                    temperature= temperature\n",
    "    )\n",
    "    return response.choices[0].message.content\n",
    "\n",
    "temperatures = [0.0, 0.3, 0.7, 1.0]\n",
    "for temp in temperatures:\n",
    "    print(f\"Temperature: {temp}\\n\")\n",
    "    print(call_openai_with_temperature(temp))\n",
    "    print(\"\\n\" + \"-\"*80 + \"\\n\")"
   ]
  }
 ],
 "metadata": {
  "kernelspec": {
   "display_name": ".venv",
   "language": "python",
   "name": "python3"
  },
  "language_info": {
   "codemirror_mode": {
    "name": "ipython",
    "version": 3
   },
   "file_extension": ".py",
   "mimetype": "text/x-python",
   "name": "python",
   "nbconvert_exporter": "python",
   "pygments_lexer": "ipython3",
   "version": "3.12.4"
  }
 },
 "nbformat": 4,
 "nbformat_minor": 4
}
